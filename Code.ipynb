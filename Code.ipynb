{
  "cells": [
    {
      "cell_type": "markdown",
      "source": [
        "# **DATA MINING CSE 572 : Group Project : Final Report Code**\n",
        "\n",
        "## **Group Members**\n",
        "\n",
        "1.   Rushir Bhavsar rbhavsa4@asu.edu\n",
        "2.   Maisuria Hardik Dharmeshkumar hmaisuri@asu.edu\n",
        "3.   Shivam Hasmukh Panchal spanch13@asu.edu\n",
        "4.   Neel Kunjadiya nkunjadi@asu.edu\n",
        "5.   Dhruvil Gorasiya dgorasiy@asu.edu\n",
        "\n",
        "#### **Problem Topic:** Lyrics Mood Classification using combination of ML and DL algorithms\n",
        "\n"
      ],
      "metadata": {
        "id": "5dJd3EqyhXbP"
      }
    },
    {
      "cell_type": "markdown",
      "source": [
        "## **Pre-limnary Libraries**"
      ],
      "metadata": {
        "id": "Wpfu70rZ1fay"
      }
    },
    {
      "cell_type": "code",
      "source": [
        "from IPython.display import clear_output\n",
        "!pip install lyricsgenius\n",
        "!pip install langdetect\n",
        "!pip install datasets\n",
        "!pip install gdown\n",
        "from zipfile import ZipFile\n",
        "import lyricsgenius as genius\n",
        "from lyricsgenius import OAuth2\n",
        "import concurrent.futures\n",
        "import requests\n",
        "import sys\n",
        "import os\n",
        "import gdown\n",
        "import zipfile\n",
        "import time\n",
        "import threading\n",
        "import asyncio\n",
        "import pandas as pd\n",
        "import numpy as np\n",
        "import os\n",
        "import matplotlib.pyplot as plt\n",
        "from multiprocessing import Pool\n",
        "from asyncio import Semaphore\n",
        "from concurrent.futures import ThreadPoolExecutor\n",
        "from tqdm import tqdm\n",
        "import csv\n",
        "from langdetect import detect, LangDetectException\n",
        "import json\n",
        "import sqlite3\n",
        "\n",
        "# Setup tqdm for pandas apply\n",
        "tqdm.pandas(desc=\"Processing lyrics\")\n",
        "\n",
        "\n",
        "clear_output()"
      ],
      "metadata": {
        "id": "MLne3O-x1jVV"
      },
      "execution_count": null,
      "outputs": []
    },
    {
      "cell_type": "markdown",
      "metadata": {
        "id": "dwsYIn8gQMi7"
      },
      "source": [
        "## **Data Creation, Preproc and Word Embedding Routine**\n",
        "The Code has been commented as the dataset is already provided and the code runtime complexity is in hours, however it has been provided here for assessment purposes"
      ]
    },
    {
      "cell_type": "markdown",
      "source": [
        "#### **Helper Functions**"
      ],
      "metadata": {
        "id": "E7lTobfQ3aWS"
      }
    },
    {
      "cell_type": "code",
      "execution_count": null,
      "metadata": {
        "id": "Z0gZqRtgQMi-"
      },
      "outputs": [],
      "source": [
        "# ## Helper Function\n",
        "# def sanitize(tag):\n",
        "#     return tag.replace(\"'\", \"''\")\n",
        "\n",
        "# def match_song_tags_to_mood_expanded(tags):\n",
        "#     matched_mood = 'unknown'\n",
        "#     matched_moods = 0\n",
        "#     mood_scoreboard = {mood: 0 for mood in MOOD_CATEGORIES_EXPANDED}\n",
        "#     for mood, (keywords, like_queries, filters) in MOOD_CATEGORIES_EXPANDED.items():\n",
        "#         for keyword in keywords:\n",
        "#             if keyword in tags:\n",
        "#                 mood_scoreboard[mood] += 1\n",
        "#         for like_query in like_queries:\n",
        "#             matches = tags.str.contains(like_query)\n",
        "#             for tag in tags[matches]:\n",
        "#                 if not any(f in tag for f in filters):\n",
        "#                     mood_scoreboard[mood] += 1\n",
        "#     max_score = max(mood_scoreboard.values())\n",
        "#     if max_score > 0:\n",
        "#         matched_moods = 1\n",
        "#         matched_mood = max((mood for mood, score in mood_scoreboard.items() if score == max_score), default='unknown')\n",
        "#     return matched_mood, matched_moods\n"
      ]
    },
    {
      "cell_type": "markdown",
      "source": [
        "#### **Main Functions for Dataset generation**"
      ],
      "metadata": {
        "id": "nmpXXnmC3c3y"
      }
    },
    {
      "cell_type": "code",
      "execution_count": null,
      "metadata": {
        "id": "mG3gptp7QMi-"
      },
      "outputs": [],
      "source": [
        "\"\"\"1. Downloads Dataset from two specified URLs of LastFM Dataset and MSD Dataset \"\"\"\n",
        "def manage_datasets(data_dir, data_urls):\n",
        "    if not os.path.exists(data_dir):\n",
        "        os.makedirs(data_dir)\n",
        "\n",
        "    for datasrc, split, url, dest in data_urls:\n",
        "        if not os.path.exists(dest):\n",
        "            response = requests.get(url)\n",
        "            with open(dest, 'wb') as f:\n",
        "                f.write(response.content)\n",
        "\n",
        "        zippedfile = dest\n",
        "        unzip_dest = dest[:dest.rfind('.')]\n",
        "        if not os.path.exists(unzip_dest) and '.zip' in dest:\n",
        "            with ZipFile(zippedfile, 'r') as zip_ref:\n",
        "                zip_ref.extractall(unzip_dest)\n",
        "\n",
        "\"\"\"2. Scrape through the Genius Website using LyricsGenius API to search for songs \"\"\"\n",
        "\n",
        "\"\"\"2a. Generates safe API requests to avoid timeouts and retries in case the request gets timedout \"\"\"\n",
        "def safe_api_request(api, title, artist, retries=2):\n",
        "    \"\"\"Attempts to safely perform API requests with specified retries and timeout.\"\"\"\n",
        "    while retries > 0:\n",
        "        try:\n",
        "            song = api.search_song(title, artist)\n",
        "            return song\n",
        "\n",
        "        except requests.RequestException as e:\n",
        "            retries -= 1\n",
        "            if retries == 0:\n",
        "                return None\n",
        "            return None\n",
        "\n",
        "\"\"\"2b. Generates Lyric file name with all characters remove and cleaned \"\"\"\n",
        "def make_lyric_file_name(artist, title):\n",
        "    \"\"\"Create a filename-friendly version of the song details.\"\"\"\n",
        "    # return f\"{artist}___{title}\".replace(' ', '_').replace('/', '_').replace('/', '_').replace('\\\\', '_').replace(':', '_').replace('*', '_').replace('?', '_').replace('\"', '_').replace('<', '_').replace('>', '_').replace('|', '_')\n",
        "    keepcharacters = ('_')\n",
        "    filename = '{0}___{1}'.format(str(artist).replace(' ', '_'), str(title).replace(' ', '_'))\n",
        "    return \"\".join(c for c in filename if c.isalnum() or c in keepcharacters).rstrip()\n",
        "\n",
        "\"\"\"2c. Downloads lyrics and stores them in text format for future use \"\"\"\n",
        "def download_lyric(row, api, known_bad, existing_files):\n",
        "    artist = row['msd_artist']\n",
        "    title = row['msd_title']\n",
        "\n",
        "\n",
        "    json_lyricfile = os.path.join(\"/content/data/json\", f\"{make_lyric_file_name(artist, title)}.txt\")\n",
        "    txt_lyricfile = os.path.join(\"/content/data/txt\", f\"{make_lyric_file_name(artist, title)}.txt\")\n",
        "\n",
        "    # Check against in-memory structures for redundancy\n",
        "    if json_lyricfile in existing_files or (artist, title) in known_bad:\n",
        "        return None\n",
        "\n",
        "    song = safe_api_request(api, title, artist)\n",
        "    if not song:\n",
        "        return row  # Return the row to be added to no lyrics file\n",
        "    song.save_lyrics(filename=txt_lyricfile, overwrite=True, verbose=False, extension='txt', sanitize=False)\n",
        "    return None\n",
        "\n",
        "\"\"\"2d. Main Scraping procedure function to get the lyrics and map them with the Musixmatch MSD dataset \"\"\"\n",
        "def scrape_lyrics_procedure():\n",
        "    os.makedirs(\"/content/data/json\", exist_ok=True)\n",
        "    os.makedirs(\"/content/data/txt\", exist_ok=True)\n",
        "\n",
        "    if not os.path.exists(\"/content/data/mxm_mappings.csv\"):\n",
        "        if not os.path.exists(\"/content/data/musixmatch_matches.txt/mxm_779k_matches.txt\"):\n",
        "            return \"Musixmatch mapping file not found.\"\n",
        "        with open(\"/content/data/mxm_mappings.csv\", 'w', newline='', encoding='utf-8') as csvfile:\n",
        "            writer = csv.writer(csvfile)\n",
        "            writer.writerow(CSV_HEADER)\n",
        "            with open(\"/content/data/musixmatch_matches.txt/mxm_779k_matches.txt\", 'r', encoding='utf-8') as f:\n",
        "                for line in f:\n",
        "                    if not line.startswith('#'):\n",
        "                        parts = line.strip().split('<SEP>')\n",
        "                        if len(parts) == len(['msd_id', 'msd_artist', 'msd_title', 'mxm_id', 'mxm_artist', 'mxm_title']):\n",
        "                            writer.writerow(parts)\n",
        "\n",
        "    df = pd.read_csv(\"/content/data/mxm_mappings.csv\", encoding='utf-8', dtype={'msd_artist': str, 'msd_title': str})\n",
        "\n",
        "    # Pre-load known bad entries and existing files\n",
        "    existing_files = {os.path.join(\"/content/data/json\", f) for f in os.listdir(\"/content/data/json\") if f.endswith('.json')}\n",
        "    known_bad = set()\n",
        "\n",
        "    api = genius.Genius(API_TOKEN, verbose=False)\n",
        "\n",
        "    with ThreadPoolExecutor(max_workers=100) as executor:\n",
        "        futures = [executor.submit(download_lyric, row, api, known_bad, existing_files) for _, row in df.iterrows()]\n",
        "        no_lyrics_updates = []\n",
        "        for future in tqdm(concurrent.futures.as_completed(futures), total=len(df), desc=\"Downloading Lyrics\"):\n",
        "            result = future.result()\n",
        "            if result is not None:\n",
        "                pass\n",
        "    print(\"Lyrics scraping process completed.\")\n",
        "\n",
        "\"\"\"3. Indexes the songs to check which songs has their lyrics download and which one has not. \"\"\"\n",
        "def index_lyrics_procedure(csv_input=\"/content/data/mxm_mappings.csv\", csv_output=\"/content/data/index_lyrics.csv\", artist_first_letter=None):\n",
        "    df = pd.read_csv(csv_input, encoding='utf-8', dtype = {'msd_artist':str, 'msd_title': str})\n",
        "\n",
        "    # Setting initial values in DataFrame to avoid repetitive calls inside the loop\n",
        "    df['lyrics_filename'] = df.apply(lambda x: make_lyric_file_name(x['msd_artist'], x['msd_title'])+'.txt', axis=1)\n",
        "    df['lyrics_available'] = 0\n",
        "    df['wordcount'] = 0\n",
        "    df['is_english'] = 0\n",
        "    df = df.sort_values(by=['lyrics_filename'])\n",
        "    for index, row in tqdm(df.iterrows(), total=df.shape[0], desc=\"Processing Lyrics Files\"):\n",
        "        txt_lyricfile = os.path.join(\"/content/data/txt\", row['lyrics_filename'])\n",
        "        if os.path.exists(txt_lyricfile):\n",
        "            try:\n",
        "                with open(txt_lyricfile, 'r', encoding='latin-1') as file:\n",
        "                    contents = file.read()\n",
        "                    if contents:\n",
        "                        df.at[index, 'lyrics_available'] = 1\n",
        "                        try:\n",
        "                            lang = detect(contents)\n",
        "                            df.at[index, 'is_english'] = 1 if lang == 'en' else 0\n",
        "                        except LangDetectException:\n",
        "                            print(f\"Language detection failed for {txt_lyricfile}\")\n",
        "                        df.at[index, 'wordcount'] = len(contents.split())\n",
        "            except Exception as e:\n",
        "                print(f\"Failed to read {txt_lyricfile}: {e}\")\n",
        "\n",
        "    print(\"Lyrics processing completed.\")\n",
        "\n",
        "    df.to_csv(csv_output, index=False)\n",
        "\n",
        "\"\"\"4. Labels the song names and mood annotates the whole dataset\"\"\"\n",
        "def label_lyrics_expanded():\n",
        "    df = pd.read_csv(\"/content/data/index_lyrics.csv\", dtype=str)\n",
        "    df['mood'] = 'unknown'\n",
        "    df['matched_mood'] = 0\n",
        "    df['found_tags'] = 0\n",
        "    conn = sqlite3.connect(\"/content/data/mxm_mappings.csv\")\n",
        "\n",
        "    for index, row in tqdm(df.iterrows(), total=df.shape[0], desc=\"Processing - Labelling Lyrics\"):\n",
        "        if df.at[index, 'lyrics_available'] == \"1\":\n",
        "            msd_id = sanitize(row['msd_id'])\n",
        "            sql = \"SELECT tids.tid, tags.tag, tid_tag.val FROM tid_tag, tids, tags WHERE tids.ROWID=tid_tag.tid AND tid_tag.tag=tags.ROWID AND tids.tid='{0}'\".format(sanitize(msd_id))\n",
        "            tags = pd.read_sql_query(sql, conn)['tag']\n",
        "            df.loc[index, 'found_tags'] = len(sql)\n",
        "            if len(sql) != 0:\n",
        "                df.at[index, 'mood'], df.loc[index, 'matched_mood'] = match_song_tags_to_mood_expanded(tags)\n",
        "    conn.close()\n",
        "    df.to_csv(\"/content/data/labeled_lyrics.csv\", index=False)"
      ]
    },
    {
      "cell_type": "markdown",
      "source": [
        "#### **Following steps have been commented out as they create the dataset. However for our purpose we have simply used the pre-generated dataset in this notebook. We would suggest to skip running this code as Colab Internet Network would also not allow the request throughput that would used on a local PC.**\n",
        "\n"
      ],
      "metadata": {
        "id": "1Z3P10Hp0zPX"
      }
    },
    {
      "cell_type": "code",
      "execution_count": null,
      "metadata": {
        "id": "8x5FmJ_aQTwY"
      },
      "outputs": [],
      "source": [
        "# manage_datasets(DATA_DIR, DATA_URLS)\n",
        "# Average Time taken for this step: 10 seconds - 1 minute"
      ]
    },
    {
      "cell_type": "code",
      "execution_count": null,
      "metadata": {
        "id": "MDsS4sWbaBW6"
      },
      "outputs": [],
      "source": [
        "# scrape_lyrics_procedure()\n",
        "# Average Time taken for this step: 10 - 12 hours"
      ]
    },
    {
      "cell_type": "code",
      "execution_count": null,
      "metadata": {
        "id": "d07yJs0OaEiA"
      },
      "outputs": [],
      "source": [
        "# index_lyrics_procedure()\n",
        "# Average Time taken for this step: 10 minutes"
      ]
    },
    {
      "cell_type": "code",
      "execution_count": null,
      "metadata": {
        "id": "3KNZ_Zq8aF3c"
      },
      "outputs": [],
      "source": [
        "# label_lyrics_expanded()\n",
        "# Average Time taken for this step: 15 minutes"
      ]
    },
    {
      "cell_type": "markdown",
      "metadata": {
        "id": "e9Azb9mX0aUc"
      },
      "source": [
        "## **Downloading the Preprocessed Dataset from Google Drive**"
      ]
    },
    {
      "cell_type": "code",
      "execution_count": null,
      "metadata": {
        "colab": {
          "base_uri": "https://localhost:8080/"
        },
        "id": "bCZjVnTo0aUc",
        "outputId": "56c50e89-4551-4ea2-fff3-b2944a18a79e"
      },
      "outputs": [
        {
          "output_type": "stream",
          "name": "stderr",
          "text": [
            "Downloading...\n",
            "From (original): https://drive.google.com/uc?export=download&id=1ALaVAqxg3odTJl7sSGL8y8hRQDL714c5\n",
            "From (redirected): https://drive.google.com/uc?export=download&id=1ALaVAqxg3odTJl7sSGL8y8hRQDL714c5&confirm=t&uuid=c5253bef-0a1a-43ba-838c-eb3908ab546b\n",
            "To: /content/labeled_lyrics.csv.zip\n",
            "100%|██████████| 1.40G/1.40G [00:14<00:00, 97.8MB/s]\n"
          ]
        }
      ],
      "source": [
        "file_path = \"labeled_lyrics.csv.zip\"\n",
        "gdown.download(\"https://drive.google.com/uc?export=download&id=1ALaVAqxg3odTJl7sSGL8y8hRQDL714c5\", file_path, quiet=False)\n",
        "# Read the zipfile from the downloaded file\n",
        "with zipfile.ZipFile(file_path, 'r') as z:\n",
        "    # Extract files to memory\n",
        "    data_csv = z.open('labeled_lyrics.csv')\n",
        "\n",
        "df = pd.read_csv(data_csv, usecols=['is_english', 'lyrics_available', 'lyrics', 'mood', 'matched_mood', 'wordcount'], low_memory=False)"
      ]
    },
    {
      "cell_type": "markdown",
      "metadata": {
        "id": "gwy3nvxIqktM"
      },
      "source": [
        "## **Model Training and Testing : Basic ML**"
      ]
    },
    {
      "cell_type": "code",
      "execution_count": null,
      "metadata": {
        "id": "3ePG5y8x0aUd"
      },
      "outputs": [],
      "source": [
        "import pandas as pd\n",
        "import numpy as np\n",
        "import os\n",
        "import requests\n",
        "import zipfile\n",
        "\n",
        "from io import BytesIO\n",
        "from datasets import load_dataset\n",
        "from sklearn.model_selection import train_test_split\n",
        "from sklearn.feature_extraction.text import TfidfVectorizer\n",
        "from sklearn.preprocessing import LabelEncoder\n",
        "import re"
      ]
    },
    {
      "cell_type": "code",
      "execution_count": null,
      "metadata": {
        "id": "0ecekbyI0aUd"
      },
      "outputs": [],
      "source": [
        "def preprocess_text(text):\n",
        "    \"\"\"Advanced text preprocessing to clean and prepare text data.\"\"\"\n",
        "    text = text.lower()  # Convert to lower case\n",
        "    text = re.sub(r'\\d+', '', text)  # Remove numbers\n",
        "    text = re.sub(r'[^\\w\\s]', '', text)  # Remove punctuation\n",
        "    text = re.sub(r'\\s+', ' ', text).strip()  # Remove extra spaces\n",
        "    return text"
      ]
    },
    {
      "cell_type": "code",
      "execution_count": null,
      "metadata": {
        "id": "wYOW3-w60aUd"
      },
      "outputs": [],
      "source": [
        "def process_dataset_and_visualize_lyrics(df, mood_quad = False):\n",
        "\n",
        "    df = df[(df.is_english == 1) & (df.matched_mood == 1)]\n",
        "\n",
        "    # Encoding the Moods into 4 Quadrants\n",
        "    if mood_quad:\n",
        "        mood_mapping = {\n",
        "            'aggression': 'anger',\n",
        "            'angst': 'anger',\n",
        "            'anger': 'anger',\n",
        "            'brooding': 'calm',\n",
        "            'calm': 'calm',\n",
        "            'cheerful': 'happy',\n",
        "            'confident': 'calm',\n",
        "            'depressed': 'sad',\n",
        "            'desire': 'calm',\n",
        "            'dreamy': 'calm',\n",
        "            'earnest': 'happy',\n",
        "            'excitement': 'happy',\n",
        "            'grief': 'sad',\n",
        "            'happy': 'happy',\n",
        "            'pessimism': 'sad',\n",
        "            'romantic': 'happy',\n",
        "            'sad': 'sad',\n",
        "            'upbeat': 'calm'\n",
        "        }\n",
        "\n",
        "        # Use the replace method to map the original moods to their quadrants in one operation\n",
        "        a = df['mood'].replace(mood_mapping)\n",
        "        # Encode mood labels\n",
        "        label_encoder = LabelEncoder()\n",
        "        df['mood_cats'] = label_encoder.fit_transform(a)\n",
        "    else:\n",
        "      # Encode mood labels\n",
        "      label_encoder = LabelEncoder()\n",
        "      df['mood_cats'] = label_encoder.fit_transform(df['mood'])\n",
        "\n",
        "    # TF-IDF Vectorization\n",
        "    tfidf = TfidfVectorizer(max_features=5000, stop_words='english')  # Consider using a stop word filter to improve feature relevance\n",
        "    features = tfidf.fit_transform(df['lyrics'])\n",
        "\n",
        "    # Split the dataset\n",
        "    X_train, X_temp, y_train, y_temp = train_test_split(features, df['mood_cats'], test_size=0.4, random_state=42, stratify=df['mood_cats'])\n",
        "    X_val, X_test, y_val, y_test = train_test_split(X_temp, y_temp, test_size=0.5, random_state=42, stratify=y_temp)\n",
        "\n",
        "    return X_train, X_val, X_test, y_train, y_val, y_test"
      ]
    },
    {
      "cell_type": "code",
      "execution_count": null,
      "metadata": {
        "id": "QJsse6UW0aUd"
      },
      "outputs": [],
      "source": [
        "import pandas as pd\n",
        "from sklearn.feature_extraction.text import CountVectorizer, TfidfTransformer\n",
        "from sklearn.naive_bayes import MultinomialNB, ComplementNB, BernoulliNB\n",
        "from sklearn.linear_model import SGDClassifier, LogisticRegression\n",
        "from sklearn.svm import SVC, LinearSVC\n",
        "from sklearn.metrics import accuracy_score, confusion_matrix, roc_curve, auc, RocCurveDisplay\n",
        "from sklearn.model_selection import GridSearchCV\n",
        "import numpy as np\n",
        "import matplotlib.pyplot as plt"
      ]
    },
    {
      "cell_type": "code",
      "execution_count": null,
      "metadata": {
        "id": "X5ptJLVg0aUd"
      },
      "outputs": [],
      "source": [
        "X_train, X_val, X_test, y_train, y_val, y_test = process_dataset_and_visualize_lyrics(df)\n",
        "clear_output()"
      ]
    },
    {
      "cell_type": "code",
      "source": [
        "X_train_m, X_val_m, X_test_m, y_train_m, y_val_m, y_test_m = process_dataset_and_visualize_lyrics(df, mood_quad=True)\n",
        "clear_output()"
      ],
      "metadata": {
        "id": "1YfZ47cHEP6c"
      },
      "execution_count": null,
      "outputs": []
    },
    {
      "cell_type": "code",
      "execution_count": null,
      "metadata": {
        "id": "RO4nemi_0aUd"
      },
      "outputs": [],
      "source": [
        "def process_lyrics_and_classify(X_train, X_val, X_test, y_train, y_val, y_test):\n",
        "    models = {\n",
        "        'Multinomial Naive Bayes': MultinomialNB(),\n",
        "        'Complement Naive Bayes': ComplementNB(alpha=0.01),\n",
        "        'Bernoulli Naive Bayes': BernoulliNB(binarize=0.0),\n",
        "        'SGD Hinge': SGDClassifier(loss='hinge', penalty='l2', alpha=1e-3, random_state=42, max_iter=5, tol=None),\n",
        "        'SGD Grid Search': GridSearchCV(SGDClassifier(loss='hinge', random_state=42, max_iter=2000, tol=None), {'alpha': [1e-4, 1e-3, 1e-2], 'penalty': ['l2', 'l1'], 'max_iter': [5, 10, 20]}, cv=3),\n",
        "        'SVC RBF': SVC(kernel='rbf', C=1.0, gamma=0.1, verbose=False, max_iter=1000),\n",
        "        'Linear SVC': LinearSVC(penalty='l2', C=0.001, max_iter=1000),\n",
        "        'Logistic Regression Multinomial': LogisticRegression(multi_class='multinomial', solver='newton-cg', C=1.0, penalty='l2', dual=False),\n",
        "        'Logistic Regression SAGA': LogisticRegression(multi_class='multinomial', solver='saga', penalty='elasticnet', C=1.0, l1_ratio=0.5)\n",
        "    }\n",
        "\n",
        "    results = {}\n",
        "    for name, model in models.items():\n",
        "\n",
        "        print('Processing %s' % (name))\n",
        "        model.fit(X_train, y_train)\n",
        "        dev_pred = model.predict(X_val)\n",
        "        test_pred = model.predict(X_test)\n",
        "\n",
        "        validation_acc = accuracy_score(y_val, dev_pred)\n",
        "        test_acc = accuracy_score(y_test, test_pred)\n",
        "        print(\"Model Trained\")\n",
        "\n",
        "\n",
        "        results[name] = {\n",
        "            'name': name,\n",
        "            'val_accuracy': validation_acc,\n",
        "            'test_accuracy': test_acc\n",
        "        }\n",
        "    return models, results"
      ]
    },
    {
      "cell_type": "code",
      "execution_count": null,
      "metadata": {
        "colab": {
          "base_uri": "https://localhost:8080/"
        },
        "id": "hMT5FmJw0aUd",
        "outputId": "4d0945af-d52d-4ff6-a273-4a3638d817e7"
      },
      "outputs": [
        {
          "output_type": "stream",
          "name": "stdout",
          "text": [
            "Multinomial Naive Bayes - Validation Accuracy: 0.3679, Test Accuracy: 0.3681\n",
            "Complement Naive Bayes - Validation Accuracy: 0.3898, Test Accuracy: 0.4052\n",
            "Bernoulli Naive Bayes - Validation Accuracy: 0.1324, Test Accuracy: 0.1332\n",
            "SGD Hinge - Validation Accuracy: 0.4669, Test Accuracy: 0.4663\n",
            "SGD Grid Search - Validation Accuracy: 0.4777, Test Accuracy: 0.4876\n",
            "SVC RBF - Validation Accuracy: 0.3649, Test Accuracy: 0.3869\n",
            "Linear SVC - Validation Accuracy: 0.3221, Test Accuracy: 0.3223\n",
            "Logistic Regression Multinomial - Validation Accuracy: 0.4427, Test Accuracy: 0.4521\n",
            "Logistic Regression SAGA - Validation Accuracy: 0.4259, Test Accuracy: 0.4294\n"
          ]
        }
      ],
      "source": [
        "# Training Models with Segregation of Moods\n",
        "models, results = process_lyrics_and_classify(X_train, X_val, X_test, y_train, y_val, y_test)\n",
        "clear_output()\n",
        "for name, _ in models.items():\n",
        "        # Print accuracy\n",
        "        print(f\"{results[name]['name']} - Validation Accuracy: {results[name]['val_accuracy']:.4f}, Test Accuracy: {results[name]['test_accuracy']:.4f}\")"
      ]
    },
    {
      "cell_type": "code",
      "source": [
        "# Training Models with Grouping of Moods into 4 quadrants\n",
        "models, results = process_lyrics_and_classify(X_train_m, X_val_m, X_test_m, y_train_m, y_val_m, y_test_m)\n",
        "clear_output()\n",
        "for name, _ in models.items():\n",
        "        # Print accuracy\n",
        "        print(f\"{results[name]['name']} - Validation Accuracy: {results[name]['val_accuracy']:.4f}, Test Accuracy: {results[name]['test_accuracy']:.4f}\")"
      ],
      "metadata": {
        "colab": {
          "base_uri": "https://localhost:8080/"
        },
        "id": "RjktTzsJEcof",
        "outputId": "fe96d348-8038-4d81-81a6-b2905bf418f2"
      },
      "execution_count": null,
      "outputs": [
        {
          "output_type": "stream",
          "name": "stdout",
          "text": [
            "Multinomial Naive Bayes - Validation Accuracy: 0.5045, Test Accuracy: 0.5000\n",
            "Complement Naive Bayes - Validation Accuracy: 0.4679, Test Accuracy: 0.4822\n",
            "Bernoulli Naive Bayes - Validation Accuracy: 0.2613, Test Accuracy: 0.2625\n",
            "SGD Hinge - Validation Accuracy: 0.5184, Test Accuracy: 0.5234\n",
            "SGD Grid Search - Validation Accuracy: 0.5486, Test Accuracy: 0.5533\n",
            "SVC RBF - Validation Accuracy: 0.4344, Test Accuracy: 0.4397\n",
            "Linear SVC - Validation Accuracy: 0.4280, Test Accuracy: 0.4279\n",
            "Logistic Regression Multinomial - Validation Accuracy: 0.5509, Test Accuracy: 0.5515\n",
            "Logistic Regression SAGA - Validation Accuracy: 0.5310, Test Accuracy: 0.5412\n"
          ]
        }
      ]
    },
    {
      "cell_type": "markdown",
      "metadata": {
        "id": "usBKoydx0aUd"
      },
      "source": [
        "## **CNN : Processing Dataset and Training the CNN Model**"
      ]
    },
    {
      "cell_type": "code",
      "execution_count": null,
      "metadata": {
        "id": "JOBRpghA0aUd"
      },
      "outputs": [],
      "source": [
        "!pip install gensim\n",
        "clear_output()"
      ]
    },
    {
      "cell_type": "code",
      "execution_count": null,
      "metadata": {
        "id": "4AjRYaDd0aUd"
      },
      "outputs": [],
      "source": [
        "import numpy as np\n",
        "import collections\n",
        "import gensim.downloader as api\n",
        "import string\n",
        "from sklearn.preprocessing import normalize\n",
        "from gensim.models import Word2Vec\n",
        "from nltk.corpus import stopwords\n",
        "import nltk\n",
        "from gensim.models import FastText\n",
        "from sklearn.model_selection import train_test_split\n",
        "import tensorflow as tf\n",
        "from sklearn.metrics import roc_auc_score, roc_curve\n",
        "import matplotlib.pyplot as plt\n",
        "from nltk.tokenize import word_tokenize\n",
        "\n",
        "# Ensure you have the necessary NLTK data downloaded\n",
        "nltk.download('stopwords')\n",
        "nltk.download('punkt')  # For word_tokenize\n",
        "clear_output()"
      ]
    },
    {
      "cell_type": "code",
      "execution_count": null,
      "metadata": {
        "id": "1W5R2wf90aUe"
      },
      "outputs": [],
      "source": [
        "def preprocess_lyrics(lyrics, word_tokenizer, remove_stop=True, remove_punc=True, do_padding=False, cutoff=None):\n",
        "    \"\"\"\n",
        "    Processes lyrics by tokenizing and optionally removing stopwords and punctuation, and padding.\n",
        "\n",
        "    Args:\n",
        "        lyrics (str): Lyrics to process.\n",
        "        word_tokenizer (callable): Function to tokenize words.\n",
        "        remove_stop (bool): If True, removes stopwords.\n",
        "        remove_punc (bool): If True, removes punctuation.\n",
        "        do_padding (bool): If True, pads the end of lyrics to the specified cutoff.\n",
        "        cutoff (int): Pad limit.\n",
        "\n",
        "    Returns:\n",
        "        list: Processed list of tokens.\n",
        "    \"\"\"\n",
        "    # Prepare the stop set if necessary\n",
        "    stop = set()\n",
        "    if remove_stop:\n",
        "        stop.update(stopwords.words('english'))\n",
        "    if remove_punc:\n",
        "        stop.update(string.punctuation)\n",
        "\n",
        "    # Tokenize and remove unwanted tokens\n",
        "    tokens = [token for token in word_tokenizer(lyrics.lower()) if token not in stop]\n",
        "\n",
        "    # Handle padding\n",
        "    if do_padding and cutoff:\n",
        "        tokens = (tokens + ['<PAD>'] * cutoff)[:cutoff]\n",
        "\n",
        "    return tokens"
      ]
    },
    {
      "cell_type": "code",
      "execution_count": null,
      "metadata": {
        "id": "ntcbhc7G0aUe"
      },
      "outputs": [],
      "source": [
        "def data_preparation(df, regen_embeddings=False):\n",
        "    \"\"\"\n",
        "    Processes and prepares the lyrics dataset from CSV to a vectorized format ready for machine learning models.\n",
        "\n",
        "    Args:\n",
        "        csv_path (str): Path to the CSV file containing lyrics data.\n",
        "        lyrics_dir (str): Directory where lyrics files are stored.\n",
        "        vocab_size (int): Number of words to keep in the vocabulary.\n",
        "        regen_embeddings (bool): Flag to regenerate embeddings if True; otherwise, attempt to load existing ones.\n",
        "\n",
        "    Returns:\n",
        "        tuple: Contains three elements (X, Y, model) where X is the features matrix,\n",
        "               Y is the target labels, and model is the trained Word2Vec model.\n",
        "    \"\"\"\n",
        "    # Import lyrics data\n",
        "    # Filter the data\n",
        "    df = df[df['is_english'] == 1]\n",
        "    df = df[df['lyrics_available'] == 1]\n",
        "    df = df[df['matched_mood'] == 1]\n",
        "    df = df.drop(['is_english', 'lyrics_available', 'matched_mood'], axis=1)\n",
        "    print(\"Data Filtered : \",df.shape)\n",
        "\n",
        "    # Extract and preprocess lyrics\n",
        "    print(\"Extracting and preprocessing lyrics\")\n",
        "    cutoff = int(df['wordcount'].quantile(0.75))\n",
        "    print(\"Cutoff Calculated\") # Ensure cutoff is an integer\n",
        "    df['preprocessed_lyrics'] = df['lyrics'].apply(\n",
        "        lambda lyrics: preprocess_lyrics(lyrics, word_tokenize, do_padding=True, cutoff=cutoff)\n",
        "    )\n",
        "\n",
        "    # Extract words from lyrics for embedding training\n",
        "    words = [word for sublist in df['preprocessed_lyrics'].tolist() for word in sublist]\n",
        "\n",
        "    # Initialize or load Word2Vec model\n",
        "    if regen_embeddings:\n",
        "        print('Training Word2Vec...')\n",
        "        model = Word2Vec(sentences=[words], vector_size=50, window=5, min_count=1, workers=10, max_vocab_size=10000)\n",
        "        model.train([words], total_examples=len(words), epochs=10)\n",
        "    else:\n",
        "        try:\n",
        "            if os.path.exists(\"/content/trained_word2vec.model\"):\n",
        "              model = Word2Vec.load(\"/content/trained_word2vec.model\")\n",
        "            else:\n",
        "              file_path = \"trained_word2vec.model.zip\"\n",
        "              gdown.download(\"https://drive.google.com/uc?export=download&id=1P3fez5sKEXH1tnnK9Vdecf8gy9Qx8-B3\", file_path, quiet=False)\n",
        "              # Read the zipfile from the downloaded file\n",
        "              with zipfile.ZipFile(file_path, 'r') as z:\n",
        "                  z.extractall(\".\")\n",
        "              model = Word2Vec.load(\"/content/trained_word2vec.model\")\n",
        "\n",
        "        except FileNotFoundError:\n",
        "            print(\"Model file not found. Set regen_embeddings=True to train a new model.\")\n",
        "            return None\n",
        "\n",
        "    # Vectorize lyrics using the trained or loaded embeddings\n",
        "    df['vectorized_lyrics'] = df['preprocessed_lyrics'].apply(lambda lyrics: transform_lyrics_to_vectors(lyrics, model))\n",
        "\n",
        "    # Prepare feature matrix X and labels Y\n",
        "    X = np.array(list(df['vectorized_lyrics'].apply(np.array)))\n",
        "\n",
        "    return X\n",
        "\n",
        "def transform_lyrics_to_vectors(lyrics, model):\n",
        "    \"\"\"\n",
        "    Transform lyrics to vectors using a trained Word2Vec model.\n",
        "\n",
        "    Args:\n",
        "        lyrics (list of str): Preprocessed lyrics data.\n",
        "        model (Word2Vec): Trained Word2Vec model.\n",
        "\n",
        "    Returns:\n",
        "        ndarray: Array of word vectors representing the lyrics.\n",
        "    \"\"\"\n",
        "    vectorized_lyrics = []\n",
        "    for word in lyrics:\n",
        "        if word in model.wv:\n",
        "            vectorized_lyrics.append(model.wv[word])\n",
        "        else:\n",
        "            vectorized_lyrics.append(np.zeros(model.vector_size))\n",
        "    return np.array(vectorized_lyrics)"
      ]
    },
    {
      "cell_type": "code",
      "execution_count": null,
      "metadata": {
        "id": "965ojaGO0aUe"
      },
      "outputs": [],
      "source": [
        "X = data_preparation(df, regen_embeddings=True)\n",
        "clear_output()"
      ]
    },
    {
      "cell_type": "code",
      "execution_count": null,
      "metadata": {
        "id": "S7KRLiVf0aUe"
      },
      "outputs": [],
      "source": [
        "def train_and_evaluate_lyrics_cnn(X_train, y_train, X_val, y_val, X_test, y_test, BATCH_SIZE, EPOCHS):\n",
        "    \"\"\"\n",
        "    Initializes, trains, and evaluates a CNN model for lyrics mood classification.\n",
        "\n",
        "    Args:\n",
        "        X_train, y_train: Training data and labels.\n",
        "        X_val, y_val: Development data and labels.\n",
        "        X_test, y_test: Testing data and labels.\n",
        "    \"\"\"\n",
        "    # Define static CNN architecture\n",
        "    shp = np.shape(X_train)\n",
        "    input_layer = tf.keras.layers.Input(shape=(shp[1], shp[2], 1))  # Adjusted for convolution\n",
        "\n",
        "    # Reshape to remove the last dimension and fit Conv1D input requirements\n",
        "    reshape_layer = tf.keras.layers.Reshape((shp[1], shp[2]))(input_layer)\n",
        "\n",
        "    conv1 = tf.keras.layers.Conv1D(64, 3, activation='relu', padding='valid')(reshape_layer)\n",
        "    pool1 = tf.keras.layers.MaxPooling1D(2)(conv1)\n",
        "    dropout1 = tf.keras.layers.Dropout(0.75)(pool1)\n",
        "\n",
        "    conv2 = tf.keras.layers.Conv1D(128, 4, activation='relu', padding='valid')(dropout1)\n",
        "    pool2 = tf.keras.layers.MaxPooling1D(2)(conv2)\n",
        "\n",
        "    conv3 = tf.keras.layers.Conv1D(128, 4, activation='relu', padding='valid')(pool2)\n",
        "    pool3 = tf.keras.layers.MaxPooling1D(2)(conv3)\n",
        "    dropout3 = tf.keras.layers.Dropout(0.75)(pool3)\n",
        "\n",
        "    conv4 = tf.keras.layers.Conv1D(256, 4, activation='relu', padding='valid')(dropout3)\n",
        "    pool4 = tf.keras.layers.MaxPooling1D(2)(conv4)\n",
        "\n",
        "    conv5 = tf.keras.layers.Conv1D(128, 4, activation='relu', padding='valid')(pool4)\n",
        "    pool5 = tf.keras.layers.MaxPooling1D(2)(conv5)\n",
        "\n",
        "    conv6 = tf.keras.layers.Conv1D(128, 4, activation='relu', padding='valid')(pool5)\n",
        "    pool6 = tf.keras.layers.MaxPooling1D(2)(conv6)\n",
        "    dropout6 = tf.keras.layers.Dropout(0.75)(pool6)\n",
        "\n",
        "    # Flatten and Dense Layers\n",
        "    flatten = tf.keras.layers.Flatten()(dropout6)\n",
        "    dense1 = tf.keras.layers.Dense(64, activation='relu')(flatten)\n",
        "    dropout_final = tf.keras.layers.Dropout(0.1)(dense1)\n",
        "    output = tf.keras.layers.Dense(y_train.shape[1], activation='softmax')(dropout_final)\n",
        "\n",
        "    # Compile the model\n",
        "    model = tf.keras.Model(inputs=input_layer, outputs=output)\n",
        "    model.compile(optimizer='adam', loss='categorical_crossentropy', metrics=['accuracy'])\n",
        "\n",
        "    # Train the model\n",
        "    model.fit(X_train, y_train, batch_size=BATCH_SIZE, epochs=EPOCHS, validation_data=(X_val, y_val))\n",
        "\n",
        "    # Evaluate the model on the test set\n",
        "    test_loss, test_accuracy = model.evaluate(X_test, y_test, verbose=2)\n",
        "    print(f\"Test Loss: {test_loss}, Test Accuracy: {test_accuracy}\")\n",
        "\n",
        "    # Predict probabilities for ROC curve\n",
        "    predictions = model.predict(X_test)\n",
        "    roc_auc = roc_auc_score(y_test, predictions, multi_class='ovr')\n",
        "    print(f\"ROC-AUC Score: {roc_auc}\")\n",
        "\n",
        "    # Plot ROC curve\n",
        "    fpr, tpr, _ = roc_curve(y_test.ravel(), predictions.ravel())\n",
        "    plt.figure()\n",
        "    plt.plot(fpr, tpr, color='darkorange', lw=2, label=f'ROC curve (area = {roc_auc:.2f})')\n",
        "    plt.plot([0, 1], [0, 1], color='navy', lw=2, linestyle='--')\n",
        "    plt.xlabel('False Positive Rate')\n",
        "    plt.ylabel('True Positive Rate')\n",
        "    plt.title('Receiver Operating Characteristic Curve')\n",
        "    plt.legend(loc=\"lower right\")\n",
        "    plt.savefig(\"CNN-Mood.png\", dpi = 1200)\n",
        "    plt.show()\n",
        "\n",
        "    return model"
      ]
    },
    {
      "cell_type": "code",
      "execution_count": null,
      "metadata": {
        "colab": {
          "base_uri": "https://localhost:8080/",
          "height": 1000
        },
        "id": "ritgu-Z40aUe",
        "outputId": "0fd9b063-e2bc-4e72-81a0-5cff0985c86b"
      },
      "outputs": [
        {
          "output_type": "stream",
          "name": "stdout",
          "text": [
            "Epoch 1/30\n",
            "364/364 [==============================] - 14s 14ms/step - loss: 2.2545 - accuracy: 0.2883 - val_loss: 2.2038 - val_accuracy: 0.3169\n",
            "Epoch 2/30\n",
            "364/364 [==============================] - 4s 11ms/step - loss: 2.0589 - accuracy: 0.3166 - val_loss: 2.0372 - val_accuracy: 0.3169\n",
            "Epoch 3/30\n",
            "364/364 [==============================] - 4s 10ms/step - loss: 2.0327 - accuracy: 0.3154 - val_loss: 2.0240 - val_accuracy: 0.3169\n",
            "Epoch 4/30\n",
            "364/364 [==============================] - 4s 10ms/step - loss: 2.0235 - accuracy: 0.3149 - val_loss: 2.0133 - val_accuracy: 0.3169\n",
            "Epoch 5/30\n",
            "364/364 [==============================] - 5s 14ms/step - loss: 2.0100 - accuracy: 0.3147 - val_loss: 2.0038 - val_accuracy: 0.3169\n",
            "Epoch 6/30\n",
            "364/364 [==============================] - 4s 12ms/step - loss: 2.0020 - accuracy: 0.3192 - val_loss: 2.0071 - val_accuracy: 0.3169\n",
            "Epoch 7/30\n",
            "364/364 [==============================] - 4s 10ms/step - loss: 1.9976 - accuracy: 0.3173 - val_loss: 2.0069 - val_accuracy: 0.3169\n",
            "Epoch 8/30\n",
            "364/364 [==============================] - 4s 12ms/step - loss: 1.9921 - accuracy: 0.3193 - val_loss: 2.0196 - val_accuracy: 0.3169\n",
            "Epoch 9/30\n",
            "364/364 [==============================] - 3s 10ms/step - loss: 1.9857 - accuracy: 0.3192 - val_loss: 2.0250 - val_accuracy: 0.3169\n",
            "Epoch 10/30\n",
            "364/364 [==============================] - 3s 9ms/step - loss: 1.9800 - accuracy: 0.3192 - val_loss: 2.0488 - val_accuracy: 0.3169\n",
            "Epoch 11/30\n",
            "364/364 [==============================] - 4s 11ms/step - loss: 1.9811 - accuracy: 0.3207 - val_loss: 2.0867 - val_accuracy: 0.3169\n",
            "Epoch 12/30\n",
            "364/364 [==============================] - 4s 10ms/step - loss: 1.9835 - accuracy: 0.3205 - val_loss: 2.0399 - val_accuracy: 0.3169\n",
            "Epoch 13/30\n",
            "364/364 [==============================] - 4s 10ms/step - loss: 1.9789 - accuracy: 0.3208 - val_loss: 2.0579 - val_accuracy: 0.3169\n",
            "Epoch 14/30\n",
            "364/364 [==============================] - 4s 12ms/step - loss: 1.9756 - accuracy: 0.3198 - val_loss: 2.0531 - val_accuracy: 0.3169\n",
            "Epoch 15/30\n",
            "364/364 [==============================] - 4s 10ms/step - loss: 1.9761 - accuracy: 0.3204 - val_loss: 2.0325 - val_accuracy: 0.3169\n",
            "Epoch 16/30\n",
            "364/364 [==============================] - 3s 10ms/step - loss: 1.9739 - accuracy: 0.3192 - val_loss: 2.0574 - val_accuracy: 0.3169\n",
            "Epoch 17/30\n",
            "364/364 [==============================] - 5s 13ms/step - loss: 1.9736 - accuracy: 0.3210 - val_loss: 2.0286 - val_accuracy: 0.3169\n",
            "Epoch 18/30\n",
            "364/364 [==============================] - 4s 10ms/step - loss: 1.9736 - accuracy: 0.3208 - val_loss: 2.0173 - val_accuracy: 0.3169\n",
            "Epoch 19/30\n",
            "364/364 [==============================] - 3s 9ms/step - loss: 1.9706 - accuracy: 0.3200 - val_loss: 2.0613 - val_accuracy: 0.3169\n",
            "Epoch 20/30\n",
            "364/364 [==============================] - 4s 10ms/step - loss: 1.9681 - accuracy: 0.3217 - val_loss: 2.0487 - val_accuracy: 0.3169\n",
            "Epoch 21/30\n",
            "364/364 [==============================] - 4s 11ms/step - loss: 1.9669 - accuracy: 0.3194 - val_loss: 2.0782 - val_accuracy: 0.3169\n",
            "Epoch 22/30\n",
            "364/364 [==============================] - 4s 10ms/step - loss: 1.9682 - accuracy: 0.3216 - val_loss: 2.0741 - val_accuracy: 0.3169\n",
            "Epoch 23/30\n",
            "364/364 [==============================] - 3s 9ms/step - loss: 1.9654 - accuracy: 0.3230 - val_loss: 2.0471 - val_accuracy: 0.3169\n",
            "Epoch 24/30\n",
            "364/364 [==============================] - 4s 12ms/step - loss: 1.9648 - accuracy: 0.3191 - val_loss: 2.0345 - val_accuracy: 0.3169\n",
            "Epoch 25/30\n",
            "364/364 [==============================] - 4s 10ms/step - loss: 1.9658 - accuracy: 0.3217 - val_loss: 2.0388 - val_accuracy: 0.3169\n",
            "Epoch 26/30\n",
            "364/364 [==============================] - 4s 10ms/step - loss: 1.9678 - accuracy: 0.3214 - val_loss: 2.0127 - val_accuracy: 0.3169\n",
            "Epoch 27/30\n",
            "364/364 [==============================] - 4s 11ms/step - loss: 1.9657 - accuracy: 0.3229 - val_loss: 2.0452 - val_accuracy: 0.3169\n",
            "Epoch 28/30\n",
            "364/364 [==============================] - 4s 10ms/step - loss: 1.9655 - accuracy: 0.3207 - val_loss: 2.0366 - val_accuracy: 0.3169\n",
            "Epoch 29/30\n",
            "364/364 [==============================] - 4s 10ms/step - loss: 1.9616 - accuracy: 0.3215 - val_loss: 2.0183 - val_accuracy: 0.3169\n",
            "Epoch 30/30\n",
            "364/364 [==============================] - 4s 10ms/step - loss: 1.9644 - accuracy: 0.3205 - val_loss: 2.0601 - val_accuracy: 0.3169\n",
            "98/98 - 1s - loss: 2.0347 - accuracy: 0.3310 - 801ms/epoch - 8ms/step\n",
            "Test Loss: 2.03470516204834, Test Accuracy: 0.3309723138809204\n",
            "98/98 [==============================] - 1s 3ms/step\n",
            "ROC-AUC Score: 0.5288138645314393\n"
          ]
        },
        {
          "output_type": "display_data",
          "data": {
            "text/plain": [
              "<Figure size 640x480 with 1 Axes>"
            ],
            "image/png": "[encoded data removed]"
          },
          "metadata": {}
        }
      ],
      "source": [
        "# Get the Expanded Moods Y\n",
        "df1 = df[(df.is_english == 1) & (df.matched_mood == 1)]\n",
        "df1['mood'] = pd.Categorical(df1['mood'])\n",
        "df1['mood_cats'] = df1['mood'].cat.codes\n",
        "Y = pd.get_dummies(df1['mood_cats']).values\n",
        "clear_output()\n",
        "# Split the data X and Y into train and test and pass to the cnn model function\n",
        "X_train, X_temp, y_train_m, y_temp = train_test_split(X, Y, test_size=0.4, random_state=42)\n",
        "X_val, X_test, y_val, y_test = train_test_split(X_temp, y_temp, test_size=0.4, random_state=42)\n",
        "m = train_and_evaluate_lyrics_cnn(X_train, y_train, X_val, y_val, X_test, y_test, 32, 30)"
      ]
    },
    {
      "cell_type": "markdown",
      "source": [
        "**Run the below code before running the above code to generate results for 4 Moods. Becuase dataset is complex and data heavy, the GPU RAM gets exhausted and the session crashes.**\n",
        "\n"
      ],
      "metadata": {
        "id": "ffyirlWihoQW"
      }
    },
    {
      "cell_type": "code",
      "source": [
        "# # Encoding the Moods into 4 Quadrants\n",
        "# mood_mapping = {\n",
        "#     'aggression': 'anger',\n",
        "#     'angst': 'anger',\n",
        "#     'anger': 'anger',\n",
        "#     'brooding': 'calm',\n",
        "#     'calm': 'calm',\n",
        "#     'cheerful': 'happy',\n",
        "#     'confident': 'calm',\n",
        "#     'depressed': 'sad',\n",
        "#     'desire': 'calm',\n",
        "#     'dreamy': 'calm',\n",
        "#     'earnest': 'happy',\n",
        "#     'excitement': 'happy',\n",
        "#     'grief': 'sad',\n",
        "#     'happy': 'happy',\n",
        "#     'pessimism': 'sad',\n",
        "#     'romantic': 'happy',\n",
        "#     'sad': 'sad',\n",
        "#     'upbeat': 'calm'\n",
        "# }\n",
        "\n",
        "# # Use the replace method to map the original moods to their quadrants in one operation\n",
        "# df2 = df[(df.is_english == 1) & (df.matched_mood == 1)]\n",
        "# df2['mood'] = df2['mood'].replace(mood_mapping)\n",
        "# df2['mood'] = pd.Categorical(df2['mood'])\n",
        "# df2['mood'] = df2['mood'].cat.codes\n",
        "# Y_m = pd.get_dummies(df2['mood']).values\n",
        "# # Split the data X and Y into train and test and pass to the cnn model function\n",
        "# X_train_m, X_temp_m, y_train_m, y_temp_m = train_test_split(X, Y_m, test_size=0.4, random_state=42)\n",
        "# X_val, X_test_m, y_val_m, y_test_m = train_test_split(X_temp_m, y_temp_m, test_size=0.4, random_state=42)\n",
        "# m = train_and_evaluate_lyrics_cnn(X_train_m, y_train_m, X_val_m, y_val_m, X_test_m, y_test_m, 32, 30)"
      ],
      "metadata": {
        "id": "2CCFqnurG7MR"
      },
      "execution_count": null,
      "outputs": []
    },
    {
      "cell_type": "code",
      "source": [],
      "metadata": {
        "id": "4RnJToVrgnME"
      },
      "execution_count": null,
      "outputs": []
    }
  ],
  "metadata": {
    "colab": {
      "provenance": [],
      "gpuType": "T4"
    },
    "kernelspec": {
      "display_name": "Python 3",
      "name": "python3"
    },
    "language_info": {
      "codemirror_mode": {
        "name": "ipython",
        "version": 3
      },
      "file_extension": ".py",
      "mimetype": "text/x-python",
      "name": "python",
      "nbconvert_exporter": "python",
      "pygments_lexer": "ipython3",
      "version": "3.8.17"
    },
    "accelerator": "GPU"
  },
  "nbformat": 4,
  "nbformat_minor": 0
}